{
 "cells": [
  {
   "cell_type": "markdown",
   "metadata": {
    "id": "BFZLxvc_v2x5"
   },
   "source": [
    "Objective: Handwritten Digit Recognition \n",
    "\n",
    "In this assignment, you are asked to design and develop artificial neural network models that can \n",
    "classify  handwritten  digits  from  the  MNIST  dataset.  The  MNIST  dataset  consists  of  60,000  \n",
    "training  images  and  10,000  testing  images.  Each  image  is  a  small  28x28  (784)  pixels  grayscale  \n",
    "digit between 0 and 9. You can use a Python library to download this dataset. \n",
    " \n",
    "From  this  assignment,  you  will  also  learn  how  to  process  and  compute  images,  and  design \n",
    "multilayer backpropagation perceptron (MLP) and Convolutional Neural Network (CNN) \n",
    "architectures."
   ]
  },
  {
   "cell_type": "markdown",
   "metadata": {
    "id": "8JSPyHgGAyxM"
   },
   "source": [
    "# Project Setup"
   ]
  },
  {
   "cell_type": "markdown",
   "metadata": {
    "id": "RhyssC434P6y"
   },
   "source": [
    "## Import relevant libraries"
   ]
  },
  {
   "cell_type": "code",
   "execution_count": 1,
   "metadata": {
    "id": "bms2gmxU-k0o"
   },
   "outputs": [],
   "source": [
    "import numpy as np\n",
    "import matplotlib.pyplot as plt\n",
    "import torch\n",
    "import torch.nn as nn\n",
    "import torch.optim as optim\n",
    "import torch.nn.functional as AF\n",
    "import matplotlib.pyplot as plt\n",
    "\n",
    "from torchvision import datasets, transforms\n",
    "from torch.utils.data import DataLoader"
   ]
  },
  {
   "cell_type": "markdown",
   "metadata": {
    "id": "9lSxwY1b4czn"
   },
   "source": [
    "## Download the dataset\n",
    "\n",
    "For this project, we will be using the [MNIST dataset](https://en.wikipedia.org/wiki/MNIST_database). However, before using the dataset we have to preprocess the data. Specifically, converting the images to tensors and scaling the pixel values from 0-255 down to 0-1."
   ]
  },
  {
   "cell_type": "code",
   "execution_count": 2,
   "metadata": {
    "colab": {
     "base_uri": "https://localhost:8080/"
    },
    "id": "8Rs2m2NqTKRg",
    "outputId": "5853c361-ff1b-49d6-d7b0-9214f6d74814"
   },
   "outputs": [
    {
     "name": "stdout",
     "output_type": "stream",
     "text": [
      "Mini batch size: 1000\n",
      "Number of batches loaded for training: 60\n",
      "Number of batches loaded for testing: 10\n"
     ]
    }
   ],
   "source": [
    "mini_batch_size = 1000\n",
    "\n",
    "transformer = transforms.Compose(\n",
    "    [transforms.ToTensor(), transforms.Normalize((0.5,), (0.5,))]\n",
    ")\n",
    "\n",
    "train_dataset = datasets.MNIST(\n",
    "    root=\"./data\", train=True, transform=transformer, download=True\n",
    ")\n",
    "test_dataset = datasets.MNIST(\n",
    "    root=\"./data\", train=False, transform=transformer, download=False\n",
    ")\n",
    "\n",
    "train_dataloader = DataLoader(\n",
    "    dataset=train_dataset, batch_size=mini_batch_size, shuffle=True\n",
    ")\n",
    "test_dataloader = DataLoader(\n",
    "    dataset=test_dataset, batch_size=mini_batch_size, shuffle=True\n",
    ")\n",
    "\n",
    "print(f\"Mini batch size: {mini_batch_size}\")\n",
    "print(f\"Number of batches loaded for training: {len(train_dataloader)}\")\n",
    "print(f\"Number of batches loaded for testing: {len(test_dataloader)}\")"
   ]
  },
  {
   "cell_type": "markdown",
   "metadata": {
    "id": "UXhwp9g56Rtb"
   },
   "source": [
    "## Visualizing the dataset\n"
   ]
  },
  {
   "cell_type": "code",
   "execution_count": 3,
   "metadata": {
    "colab": {
     "base_uri": "https://localhost:8080/"
    },
    "id": "XADbuBw66rsO",
    "outputId": "af04b17e-dbc3-498b-fe0d-9b60d56f0061"
   },
   "outputs": [
    {
     "name": "stdout",
     "output_type": "stream",
     "text": [
      "torch.Size([1, 1, 28, 28])\n"
     ]
    }
   ],
   "source": [
    "# Dataloader that only loads 1 image at a time for the purposes of sampling \n",
    "# individual images\n",
    "sample_dataloader = DataLoader(dataset=test_dataset, batch_size=1, shuffle=True)\n",
    "\n",
    "images, labels = next(iter(sample_dataloader))\n",
    "print(images.shape)"
   ]
  },
  {
   "cell_type": "markdown",
   "metadata": {
    "id": "WoG-8GWG6ywd"
   },
   "source": [
    "As we can see, the shape of each image is 28x28, meaning there are 784 inputs for our model. Let's display some of the images from the dataset"
   ]
  },
  {
   "cell_type": "code",
   "execution_count": 4,
   "metadata": {
    "colab": {
     "base_uri": "https://localhost:8080/",
     "height": 284
    },
    "id": "wxfoGgJkHSZN",
    "outputId": "3e7adc2a-af63-4b7c-e5e5-248681f3176f"
   },
   "outputs": [
    {
     "data": {
      "image/png": "[encoded data removed]",
      "text/plain": [
       "<Figure size 640x480 with 6 Axes>"
      ]
     },
     "metadata": {},
     "output_type": "display_data"
    }
   ],
   "source": [
    "fig = plt.figure()\n",
    "fig.suptitle(\"Sample digits\", fontsize=16)\n",
    "for i in range(6):\n",
    "    images, labels = next(iter(sample_dataloader))\n",
    "    plt.subplot(2, 3, i + 1)\n",
    "    plt.tight_layout()\n",
    "    plt.imshow(images[0][0].reshape(28, 28), cmap=\"gray\", interpolation=\"none\")\n",
    "    plt.title(f'Label {labels[0]}')\n",
    "    plt.xticks([])\n",
    "    plt.yticks([])\n",
    "    fig"
   ]
  },
  {
   "cell_type": "markdown",
   "metadata": {
    "id": "0-U8vTCe7UoM"
   },
   "source": [
    "# Part 1: Multi Layer Perceptron (MLP)"
   ]
  },
  {
   "cell_type": "markdown",
   "metadata": {
    "id": "DdplyOgw_LWc"
   },
   "source": [
    "## Model Construction"
   ]
  },
  {
   "cell_type": "markdown",
   "metadata": {
    "id": "JuEpcB7v7d64"
   },
   "source": [
    "Our MLP model used 4 linear layers for a total of 2330 neurons and the activation function we used was the Rectified Linear Unit (ReLU) with the LogSoftMax activation as the output activation function because this is a classification problem."
   ]
  },
  {
   "cell_type": "code",
   "execution_count": 5,
   "metadata": {
    "colab": {
     "base_uri": "https://localhost:8080/"
    },
    "id": "sn-8l5glJ_mh",
    "outputId": "33e0efe7-79cf-485b-9fd8-fc8839ea732f"
   },
   "outputs": [
    {
     "name": "stdout",
     "output_type": "stream",
     "text": [
      "Sequential(\n",
      "  (0): Linear(in_features=784, out_features=512, bias=True)\n",
      "  (1): ReLU()\n",
      "  (2): Linear(in_features=512, out_features=512, bias=True)\n",
      "  (3): ReLU()\n",
      "  (4): Linear(in_features=512, out_features=512, bias=True)\n",
      "  (5): ReLU()\n",
      "  (6): Linear(in_features=512, out_features=10, bias=True)\n",
      "  (7): LogSoftmax(dim=1)\n",
      ")\n"
     ]
    }
   ],
   "source": [
    "model = nn.Sequential(\n",
    "    nn.Linear(784, 512),\n",
    "    nn.ReLU(),\n",
    "    nn.Linear(512, 512),\n",
    "    nn.ReLU(),\n",
    "    nn.Linear(512, 512),\n",
    "    nn.ReLU(),\n",
    "    nn.Linear(512, 10),\n",
    "    nn.LogSoftmax(dim=1),\n",
    ")\n",
    "print(model)"
   ]
  },
  {
   "cell_type": "markdown",
   "metadata": {
    "id": "NH6MY1vi9YoW"
   },
   "source": [
    "For our loss function we used the Cross Entropy Loss function"
   ]
  },
  {
   "cell_type": "code",
   "execution_count": 6,
   "metadata": {
    "id": "ajlrL39P9ZQE"
   },
   "outputs": [],
   "source": [
    "loss_function = nn.CrossEntropyLoss()"
   ]
  },
  {
   "cell_type": "markdown",
   "metadata": {
    "id": "UDJVPgaM9nfQ"
   },
   "source": [
    "For our gradient method we used the Adam optimizer with a learning rate of 0.003"
   ]
  },
  {
   "cell_type": "code",
   "execution_count": 7,
   "metadata": {
    "id": "uysy70fB9l5V"
   },
   "outputs": [],
   "source": [
    "optimizer = optim.Adam(model.parameters(), lr=0.003)"
   ]
  },
  {
   "cell_type": "code",
   "execution_count": 8,
   "metadata": {
    "colab": {
     "base_uri": "https://localhost:8080/"
    },
    "id": "IgXcHxS9P2Ge",
    "outputId": "4f84b99e-7831-4e07-8f95-081894a79773"
   },
   "outputs": [
    {
     "name": "stdout",
     "output_type": "stream",
     "text": [
      "Training with Apple Silicon\n",
      "Epoch 0 - Training loss: 0.7062971264123916\n",
      "Epoch 1 - Training loss: 0.1836504850536585\n",
      "Epoch 2 - Training loss: 0.12555630256732306\n",
      "Epoch 3 - Training loss: 0.09297069745759169\n",
      "Epoch 4 - Training loss: 0.07332255734751622\n",
      "Epoch 5 - Training loss: 0.06508577490846316\n",
      "Epoch 6 - Training loss: 0.05327987528095643\n",
      "Epoch 7 - Training loss: 0.04592210249975324\n",
      "Epoch 8 - Training loss: 0.041200701426714656\n",
      "Epoch 9 - Training loss: 0.04915759799381097\n",
      "Epoch 10 - Training loss: 0.0353595116486152\n",
      "Epoch 11 - Training loss: 0.028985522609824937\n",
      "Epoch 12 - Training loss: 0.029948636097833513\n",
      "Epoch 13 - Training loss: 0.03318087127991021\n",
      "Epoch 14 - Training loss: 0.024575960356742144\n",
      "Epoch 15 - Training loss: 0.026748089166358114\n",
      "Epoch 16 - Training loss: 0.019111777616975207\n",
      "Epoch 17 - Training loss: 0.01769401797403892\n",
      "Epoch 18 - Training loss: 0.01990034426562488\n",
      "Epoch 19 - Training loss: 0.017190352315083146\n",
      "Training Time: 51.388005125\n"
     ]
    }
   ],
   "source": [
    "import time\n",
    "\n",
    "time0 = time.perf_counter()\n",
    "num_epochs = 20\n",
    "\n",
    "# use gpu if available\n",
    "device = torch.device(\n",
    "    \"cuda:0\"\n",
    "    if torch.cuda.is_available()\n",
    "    else \"mps\"\n",
    "    if torch.backends.mps.is_available() and torch.backends.mps.is_built()\n",
    "    else \"cpu\"\n",
    ")\n",
    "if torch.cuda.is_available():\n",
    "    print(\"The CUDA version is\", torch.version.cuda)\n",
    "    cuda_id = torch.cuda.current_device()\n",
    "    print(\"ID of the CUDA device:\", cuda_id)\n",
    "    print(\"The name of the CUDA device:\", torch.cuda.get_device_name(cuda_id))\n",
    "\n",
    "    print(\"Training with CUDA\")\n",
    "    model = model.to(device=device)\n",
    "\n",
    "elif device.type == \"mps\" or device.type == \"cuda\":\n",
    "    print(\"Training with Apple Silicon\")\n",
    "    device = torch.device(\"mps\")\n",
    "    model = model.to(device)\n",
    "else:\n",
    "    print(\"Training with CPU\")\n",
    "\n",
    "for e in range(num_epochs):\n",
    "    running_loss = 0\n",
    "    for images, labels in train_dataloader:\n",
    "        if device.type == \"mps\" or device.type == \"cuda\":\n",
    "            images = images.to(device)\n",
    "            labels = labels.to(device)\n",
    "        images = images.view(images.shape[0], -1)\n",
    "\n",
    "        # set the cumulated gradient to zero\n",
    "        optimizer.zero_grad()\n",
    "\n",
    "        # feedforward images as input to the network\n",
    "        output = model(images)\n",
    "        loss = loss_function(output, labels)\n",
    "\n",
    "        # calculating gradients backward using Autograd\n",
    "        loss.backward()\n",
    "\n",
    "        # updating all parameters after every iteration through backpropagation\n",
    "        optimizer.step()\n",
    "\n",
    "        running_loss += loss.item()\n",
    "    else:\n",
    "        print(f\"Epoch {e} - Training loss: {running_loss / len(train_dataloader)}\")\n",
    "print(f\"Training Time: {time.perf_counter() - time0}\")"
   ]
  },
  {
   "cell_type": "code",
   "execution_count": 9,
   "metadata": {
    "colab": {
     "base_uri": "https://localhost:8080/"
    },
    "id": "h1t-l8CicDsD",
    "outputId": "a874cb8a-d23f-4348-f70e-74bca1029c03"
   },
   "outputs": [
    {
     "name": "stdout",
     "output_type": "stream",
     "text": [
      "Number of samples: 10000\n",
      "Number of correct prediction: 9784\n",
      "Accuracy: 0.9784\n"
     ]
    }
   ],
   "source": [
    "# torch.no_grad() is a decorator for the step method\n",
    "# making \"require_grad\" false since no need to keeping track of gradients\n",
    "predicted_digits = []\n",
    "num_samples = 0\n",
    "num_correct = 0\n",
    "# torch.no_grad() deactivates Autogra engine (for weight updates)\n",
    "with torch.no_grad():\n",
    "    # set the model in testing mode\n",
    "    model.eval()\n",
    "    for batch_cnt, (images, labels) in enumerate(test_dataloader):\n",
    "        images = images.reshape(-1, 784)\n",
    "\n",
    "        if device.type == \"mps\" or device.type == \"cuda\":\n",
    "            images = images.to(device)\n",
    "            labels = labels.to(device)\n",
    "\n",
    "        # returns the max value of all elements in the input tensor\n",
    "        output = model(images)\n",
    "        _, prediction = torch.max(output, 1)\n",
    "        predicted_digits.append(prediction)\n",
    "        num_samples += labels.shape[0]\n",
    "        num_correct += (prediction == labels).sum().item()\n",
    "    accuracy = num_correct / num_samples\n",
    "    print(f\"Number of samples: {num_samples}\")\n",
    "    print(f\"Number of correct prediction: {num_correct}\")\n",
    "    print(f\"Accuracy: {accuracy}\")"
   ]
  },
  {
   "cell_type": "markdown",
   "metadata": {
    "id": "8zU7Lw7T-BM-"
   },
   "source": [
    "## Results\n",
    "Our MLP model yielded a classification accuracy of 97.84% after 20 epoches and 51 seconds of training"
   ]
  },
  {
   "cell_type": "code",
   "execution_count": 10,
   "metadata": {
    "colab": {
     "base_uri": "https://localhost:8080/",
     "height": 284
    },
    "id": "Nml4OrCE2drN",
    "outputId": "85970e4a-006d-4429-ae5e-7d0bf1af9c43"
   },
   "outputs": [
    {
     "data": {
      "image/png": "[encoded data removed]",
      "text/plain": [
       "<Figure size 640x480 with 9 Axes>"
      ]
     },
     "metadata": {},
     "output_type": "display_data"
    }
   ],
   "source": [
    "fig = plt.figure()\n",
    "fig.suptitle('Sample Predictions', fontsize=16)\n",
    "for i in range(9):\n",
    "    images, labels = next(iter(sample_dataloader))\n",
    "    plt.subplot(3, 3, i + 1)\n",
    "    plt.tight_layout()\n",
    "    plt.imshow(images[0][0].reshape(28, 28), cmap=\"gray\", interpolation=\"none\")\n",
    "    images = images.to(device)\n",
    "    images = images.reshape(-1, 784)\n",
    "    model.eval()\n",
    "    output = model(images)\n",
    "    _, prediction = torch.max(output, 1)\n",
    "    plt.title(f\"Prediction: {prediction[0]}\\nActual: {labels[0]}\")\n",
    "    plt.xticks([])\n",
    "    plt.yticks([])\n",
    "    fig"
   ]
  },
  {
   "cell_type": "markdown",
   "metadata": {
    "id": "7ZyMY1s1B6FB"
   },
   "source": [
    "As we can see, it tends to correctly classify most digits in the testing set. Let's take a look at what digits it failed to properly classify"
   ]
  },
  {
   "cell_type": "code",
   "execution_count": 11,
   "metadata": {
    "colab": {
     "base_uri": "https://localhost:8080/",
     "height": 284
    },
    "id": "WVMfk2EHBZuJ",
    "outputId": "c92d106a-4b14-40b3-c7d2-60538aa5acf8"
   },
   "outputs": [
    {
     "data": {
      "image/png": "[encoded data removed]",
      "text/plain": [
       "<Figure size 640x480 with 9 Axes>"
      ]
     },
     "metadata": {},
     "output_type": "display_data"
    }
   ],
   "source": [
    "fig = plt.figure()\n",
    "fig.suptitle(\"Incorrect Predictions\", fontsize=16)\n",
    "i = 0\n",
    "while i < 9:\n",
    "    images, labels = next(iter(sample_dataloader))\n",
    "    images_ = images.to(device)\n",
    "    images_ = images_.reshape(-1, 784)\n",
    "    model.eval()\n",
    "    output = model(images_)\n",
    "    _, prediction = torch.max(output, 1)\n",
    "    if prediction[0] == labels[0]:\n",
    "        continue;\n",
    "    plt.subplot(3, 3, i + 1)\n",
    "    plt.tight_layout()\n",
    "    plt.imshow(images[0][0].reshape(28, 28), cmap=\"gray\", interpolation=\"none\")\n",
    "    plt.title(f\"Prediction: {prediction[0]}\\nActual: {labels[0]}\")\n",
    "    plt.xticks([])\n",
    "    plt.yticks([])\n",
    "    i = i + 1\n",
    "    fig"
   ]
  },
  {
   "cell_type": "markdown",
   "metadata": {
    "id": "jLYGxZVS_pyL"
   },
   "source": [
    "# Part 2: Convolutional Neural Network\n",
    "## Model Construction"
   ]
  },
  {
   "cell_type": "markdown",
   "metadata": {
    "id": "J7YZhlkeCrhH"
   },
   "source": [
    "Our CNN model used only 1 Conv2d layer with 1 MaxPool2d layer and an additional hidden linear layer. It uses the ReLU activation function."
   ]
  },
  {
   "cell_type": "code",
   "execution_count": 12,
   "metadata": {
    "colab": {
     "base_uri": "https://localhost:8080/"
    },
    "id": "Zp6atC1TdCK0",
    "outputId": "a2c39bcf-6cf1-4a5b-fbf9-4e41f72b0b46"
   },
   "outputs": [
    {
     "name": "stdout",
     "output_type": "stream",
     "text": [
      "CNN(\n",
      "  (conv1): Conv2d(1, 28, kernel_size=(3, 3), stride=(1, 1))\n",
      "  (pool1): MaxPool2d(kernel_size=2, stride=2, padding=0, dilation=1, ceil_mode=False)\n",
      "  (dropout_conv1): Dropout(p=0.2, inplace=False)\n",
      "  (fc1): Linear(in_features=128, out_features=10, bias=True)\n",
      "  (hidden): Linear(in_features=4732, out_features=128, bias=True)\n",
      "  (out): ReLU()\n",
      ")\n"
     ]
    }
   ],
   "source": [
    "class CNN(nn.Module):\n",
    "    def __init__(self):\n",
    "        super(CNN, self).__init__()\n",
    "        self.conv1 = nn.Conv2d(1, 28, kernel_size=3)\n",
    "        self.pool1 = nn.MaxPool2d(2)\n",
    "        self.dropout_conv1 = nn.Dropout(0.2)\n",
    "        self.fc1 = nn.Linear(128, 10)\n",
    "        self.hidden = nn.Linear(28 * 13 * 13, 128)\n",
    "        self.out = nn.ReLU()\n",
    "\n",
    "    def forward(self, x):\n",
    "        x = self.out(self.conv1(x))\n",
    "        x = self.pool1(x)\n",
    "        x = x.view(x.size(0), -1)\n",
    "        x = self.out(self.hidden(x))\n",
    "        x = self.dropout_conv1(x)\n",
    "        x = self.fc1(x)\n",
    "        return x\n",
    "\n",
    "\n",
    "model = CNN()\n",
    "print(model)"
   ]
  },
  {
   "cell_type": "markdown",
   "metadata": {
    "id": "3YRZ5H-N_UYx"
   },
   "source": [
    "Our loss function and optimizer used the same parameters as the MLP model. Cross Entropy Loss and Adam respectively."
   ]
  },
  {
   "cell_type": "code",
   "execution_count": 13,
   "metadata": {
    "id": "CTPPpdNx_UYy"
   },
   "outputs": [],
   "source": [
    "loss_function = nn.CrossEntropyLoss()"
   ]
  },
  {
   "cell_type": "code",
   "execution_count": 14,
   "metadata": {
    "id": "qt14CoZT_UYz"
   },
   "outputs": [],
   "source": [
    "optimizer = optim.Adam(model.parameters(), lr=0.003)"
   ]
  },
  {
   "cell_type": "code",
   "execution_count": 15,
   "metadata": {
    "colab": {
     "base_uri": "https://localhost:8080/"
    },
    "id": "6i9hPFp4iz9y",
    "outputId": "41d7aae4-3d21-4010-ac51-e87e2cf19d3c"
   },
   "outputs": [
    {
     "name": "stdout",
     "output_type": "stream",
     "text": [
      "Training with Apple Silicon\n",
      "Epoch 0 - Training loss: 0.7130954526364803\n",
      "Epoch 1 - Training loss: 0.19142543996373812\n",
      "Epoch 2 - Training loss: 0.12121491432189942\n",
      "Epoch 3 - Training loss: 0.09439456276595592\n",
      "Epoch 4 - Training loss: 0.0749340392028292\n",
      "Epoch 5 - Training loss: 0.06489987994233767\n",
      "Epoch 6 - Training loss: 0.0552262614791592\n",
      "Epoch 7 - Training loss: 0.049915183894336225\n",
      "Epoch 8 - Training loss: 0.04406964086617033\n",
      "Epoch 9 - Training loss: 0.039694247239579754\n",
      "Epoch 10 - Training loss: 0.03653611990933617\n",
      "Epoch 11 - Training loss: 0.03266819203272462\n",
      "Epoch 12 - Training loss: 0.02937838526753088\n",
      "Epoch 13 - Training loss: 0.026868577348068357\n",
      "Epoch 14 - Training loss: 0.024683859742557008\n",
      "Epoch 15 - Training loss: 0.02322738996396462\n",
      "Epoch 16 - Training loss: 0.022761528038730224\n",
      "Epoch 17 - Training loss: 0.02116626452965041\n",
      "Epoch 18 - Training loss: 0.01855914629995823\n",
      "Epoch 19 - Training loss: 0.016913721803575754\n",
      "Training Time: 74.36753841699999\n"
     ]
    }
   ],
   "source": [
    "import time\n",
    "\n",
    "time0 = time.perf_counter()\n",
    "num_epochs = 20\n",
    "\n",
    "# use gpu if available\n",
    "device = torch.device(\n",
    "    \"cuda:0\"\n",
    "    if torch.cuda.is_available()\n",
    "    else \"mps\"\n",
    "    if torch.backends.mps.is_available() and torch.backends.mps.is_built()\n",
    "    else \"cpu\"\n",
    ")\n",
    "if torch.cuda.is_available():\n",
    "    print(\"The CUDA version is\", torch.version.cuda)\n",
    "    cuda_id = torch.cuda.current_device()\n",
    "    print(\"ID of the CUDA device:\", cuda_id)\n",
    "    print(\"The name of the CUDA device:\", torch.cuda.get_device_name(cuda_id))\n",
    "\n",
    "    print(\"Training with CUDA\")\n",
    "    model = model.to(device=device)\n",
    "\n",
    "elif torch.backends.mps.is_available() and torch.backends.mps.is_built():\n",
    "    print(\"Training with Apple Silicon\")\n",
    "    device = torch.device(\"mps\")\n",
    "    model = model.to(device)\n",
    "else:\n",
    "    print(\"Training with CPU\")\n",
    "\n",
    "for e in range(num_epochs):\n",
    "    running_loss = 0\n",
    "    for images, labels in train_dataloader:\n",
    "        if device.type == \"mps\" or device.type == \"cuda\":\n",
    "            images = images.to(device)\n",
    "            labels = labels.to(device)\n",
    "\n",
    "        # set the cumulated gradient to zero\n",
    "        optimizer.zero_grad()\n",
    "\n",
    "        # feedforward images as input to the network\n",
    "        output = model(images)\n",
    "        loss = loss_function(output, labels)\n",
    "\n",
    "        # calculating gradients backward using Autograd\n",
    "        loss.backward()\n",
    "\n",
    "        # updating all parameters after every iteration through backpropagation\n",
    "        optimizer.step()\n",
    "\n",
    "        running_loss += loss.item()\n",
    "    else:\n",
    "        print(f\"Epoch {e} - Training loss: {running_loss / len(train_dataloader)}\")\n",
    "print(f\"Training Time: {time.perf_counter() - time0}\")"
   ]
  },
  {
   "cell_type": "code",
   "execution_count": 16,
   "metadata": {
    "colab": {
     "base_uri": "https://localhost:8080/"
    },
    "id": "Pgp4WH85joCF",
    "outputId": "9f4757ea-cea0-4768-f63e-b7cde9d2357a"
   },
   "outputs": [
    {
     "name": "stdout",
     "output_type": "stream",
     "text": [
      "Number of samples: 10000\n",
      "Number of correct prediction: 9869\n",
      "Accuracy: 0.9869\n"
     ]
    }
   ],
   "source": [
    "# torch.no_grad() is a decorator for the step method\n",
    "# making \"require_grad\" false since no need to keeping track of gradients\n",
    "predicted_digits = []\n",
    "num_samples = 0\n",
    "num_correct = 0\n",
    "# torch.no_grad() deactivates Autogra engine (for weight updates)\n",
    "with torch.no_grad():\n",
    "    # set the model in testing mode\n",
    "    model.eval()\n",
    "    for batch_cnt, (images, labels) in enumerate(test_dataloader):\n",
    "        if device.type == \"mps\" or device.type == \"cuda\":\n",
    "            images = images.to(device)\n",
    "            labels = labels.to(device)\n",
    "\n",
    "        # returns the max value of all elements in the input tensor\n",
    "        output = model(images)\n",
    "        _, prediction = torch.max(output, 1)\n",
    "        predicted_digits.append(prediction)\n",
    "        num_samples += labels.shape[0]\n",
    "        num_correct += (prediction == labels).sum().item()\n",
    "    accuracy = num_correct / num_samples\n",
    "    print(f\"Number of samples: {num_samples}\")\n",
    "    print(f\"Number of correct prediction: {num_correct}\")\n",
    "    print(f\"Accuracy: {accuracy}\")"
   ]
  },
  {
   "cell_type": "markdown",
   "metadata": {
    "id": "wW0EyQUkDm-F"
   },
   "source": [
    "## Results\n",
    "Our CNN model yielded a classification accuracy of 98.69% after 20 epoches and 74 seconds of training."
   ]
  },
  {
   "cell_type": "code",
   "execution_count": 17,
   "metadata": {
    "colab": {
     "base_uri": "https://localhost:8080/",
     "height": 284
    },
    "id": "UhoEQSs0x-qZ",
    "outputId": "4888e625-34ab-4429-b2de-a577d650e218"
   },
   "outputs": [
    {
     "data": {
      "image/png": "[encoded data removed]",
      "text/plain": [
       "<Figure size 640x480 with 9 Axes>"
      ]
     },
     "metadata": {},
     "output_type": "display_data"
    }
   ],
   "source": [
    "fig = plt.figure()\n",
    "fig.suptitle(\"Sample Predictions\", fontsize=16)\n",
    "for i in range(9):\n",
    "    images, labels = next(iter(sample_dataloader))\n",
    "    plt.subplot(3, 3, i + 1)\n",
    "    plt.tight_layout()\n",
    "    plt.imshow(images[0][0].reshape(28, 28), cmap=\"gray\", interpolation=\"none\")\n",
    "    images = images.to(device)\n",
    "    model.eval()\n",
    "    output = model(images)\n",
    "    _, prediction = torch.max(output, 1)\n",
    "    plt.title(f\"Prediction: {prediction[0]}\\nActual: {labels[0]}\")\n",
    "    plt.xticks([])\n",
    "    plt.yticks([])\n",
    "    fig"
   ]
  },
  {
   "cell_type": "code",
   "execution_count": 18,
   "metadata": {
    "colab": {
     "base_uri": "https://localhost:8080/",
     "height": 284
    },
    "id": "w9QxJM6JCQ67",
    "outputId": "26523779-92a3-4582-c8f5-a9efa962bbdc"
   },
   "outputs": [
    {
     "data": {
      "image/png": "[encoded data removed]",
      "text/plain": [
       "<Figure size 640x480 with 9 Axes>"
      ]
     },
     "metadata": {},
     "output_type": "display_data"
    }
   ],
   "source": [
    "fig = plt.figure()\n",
    "fig.suptitle(\"Incorrect Predictions\", fontsize=16)\n",
    "i = 0\n",
    "while i < 9:\n",
    "    images, labels = next(iter(sample_dataloader))\n",
    "    images_ = images.to(device)\n",
    "    model.eval()\n",
    "    output = model(images_)\n",
    "    _, prediction = torch.max(output, 1)\n",
    "    if prediction[0] == labels[0]:\n",
    "        continue;\n",
    "    plt.subplot(3, 3, i + 1)\n",
    "    plt.tight_layout()\n",
    "    plt.imshow(images[0][0].reshape(28, 28), cmap=\"gray\", interpolation=\"none\")\n",
    "    plt.title(f\"Prediction: {prediction[0]}\\nActual: {labels[0]}\")\n",
    "    plt.xticks([])\n",
    "    plt.yticks([])\n",
    "    i = i + 1\n",
    "    fig"
   ]
  },
  {
   "cell_type": "markdown",
   "metadata": {
    "id": "VxA8UrO2Dyje"
   },
   "source": [
    "# Conclusion\n",
    "\n",
    "We found that the Convolutional Neural Network model consistently out performs the Multi Layer Perceptron model in classification accuracy. However it is worth noting that the MLP model tended to have faster training times despite having more layers than the CNN. As such, we would recommend using a CNN for the classification of hand written digits"
   ]
  }
 ],
 "metadata": {
  "accelerator": "GPU",
  "authors": [
   {
    "name": "Jason Wong"
   }
  ],
  "colab": {
   "collapsed_sections": [],
   "provenance": []
  },
  "gpuClass": "standard",
  "kernelspec": {
   "display_name": "Python 3 (ipykernel)",
   "language": "python",
   "name": "python3"
  },
  "language_info": {
   "codemirror_mode": {
    "name": "ipython",
    "version": 3
   },
   "file_extension": ".py",
   "mimetype": "text/x-python",
   "name": "python",
   "nbconvert_exporter": "python",
   "pygments_lexer": "ipython3",
   "version": "3.9.12"
  },
  "toc-autonumbering": true,
  "toc-showmarkdowntxt": true
 },
 "nbformat": 4,
 "nbformat_minor": 4
}
